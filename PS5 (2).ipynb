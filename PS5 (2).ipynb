{
 "cells": [
  {
   "cell_type": "code",
   "execution_count": 28,
   "id": "e36825e5-1575-4236-952d-af73c058830f",
   "metadata": {},
   "outputs": [
    {
     "name": "stdout",
     "output_type": "stream",
     "text": [
      "['Code', 'Name', 'Continent', 'Region', 'SurfaceArea', 'IndepYear', 'Population', 'LifeExpectancy', 'GNP', 'GNPOld', 'LocalName', 'GovernmentForm', 'HeadOfState', 'Capital', 'Code2']\n"
     ]
    }
   ],
   "source": [
    "#!/usr/bin/env python\n",
    "from sqlalchemy import create_engine, MetaData, Table\n",
    "\n",
    "# Create the engine to connect to the SQLite database\n",
    "engine = create_engine('sqlite:///world.sqlite')\n",
    "\n",
    "# Connect to the database\n",
    "conn = engine.connect()\n",
    "\n",
    "# Read the metadata from the existing database\n",
    "DBInfo = MetaData(engine)\n",
    "\n",
    "# Auto-create the country object based on the metadata\n",
    "country = Table('country', DBInfo, autoload_with=engine)\n",
    "\n",
    "# Print out the columns to see what's available\n",
    "print([col.name for col in country.columns])\n",
    "\n",
    "\n"
   ]
  },
  {
   "cell_type": "code",
   "execution_count": 29,
   "id": "5b2f9466-3aa4-4b3d-b351-8d96a3150f00",
   "metadata": {
    "tags": []
   },
   "outputs": [
    {
     "name": "stdout",
     "output_type": "stream",
     "text": [
      "The country with the latest independence year is South Sudan.\n"
     ]
    }
   ],
   "source": [
    "from sqlalchemy import create_engine, MetaData, Table, select\n",
    "\n",
    "# Connect to the SQLite database\n",
    "#engine = create_engine('sqlite:////blue/bsc4452/share/Class_Files/data/world.sqlite')\n",
    "#conn = engine.connect()\n",
    "\n",
    "# Load metadata and reflect the 'country' table\n",
    "metadata = MetaData()\n",
    "metadata.reflect(bind=engine)\n",
    "country = metadata.tables.get('country')\n",
    "\n",
    "# Query to find the Name with the most recent independence year\n",
    "query = select([country.c.Name])  # Wrap in a list to make it iterable\n",
    "query = query.where(country.c.IndepYear != None)  # Exclude NULL values from IndepYear\n",
    "query = query.order_by(country.c.IndepYear.desc())  # Sort by most recent year of independence\n",
    "query = query.limit(1)  # Limit to the most recent result\n",
    "\n",
    "# Execute the query and fetch the result\n",
    "result = conn.execute(query).fetchone()\n",
    "\n",
    "# Output the result\n",
    "if result:\n",
    "    print(f\"The country with the latest independence year is {result.Name}.\")\n",
    "else:\n",
    "    print(\"No independence data available.\")\n"
   ]
  },
  {
   "cell_type": "code",
   "execution_count": null,
   "id": "0d9a3680-d9d7-44c7-9727-ef24e5624234",
   "metadata": {},
   "outputs": [],
   "source": []
  },
  {
   "cell_type": "code",
   "execution_count": 30,
   "id": "044d90c7-4737-4299-b632-ccde4fe6dd8b",
   "metadata": {
    "tags": []
   },
   "outputs": [
    {
     "name": "stdout",
     "output_type": "stream",
     "text": [
      "Error during insertion: (sqlite3.IntegrityError) UNIQUE constraint failed: country.Code\n",
      "[SQL: INSERT INTO country (\"Code\", \"Name\", \"Continent\", \"Region\", \"SurfaceArea\", \"IndepYear\", \"Population\", \"LifeExpectancy\", \"GNP\", \"GNPOld\", \"LocalName\", \"GovernmentForm\", \"HeadOfState\", \"Capital\", \"Code2\") VALUES (?, ?, ?, ?, ?, ?, ?, ?, ?, ?, ?, ?, ?, ?, ?)]\n",
      "[parameters: ('SSD', 'South Sudan', 'Africa', 'Eastern Africa', 619745.0, 2011, 10000000, None, None, None, 'South Sudan', 'Republic', 'Salva Kiir Mayardit', 'Juba', 'SS')]\n",
      "(Background on this error at: http://sqlalche.me/e/13/gkpj)\n"
     ]
    }
   ],
   "source": [
    "#!/usr/bin/env python\n",
    "from sqlalchemy import create_engine, MetaData, Table, insert\n",
    "\n",
    "# Create the engine to connect to the SQLite database\n",
    "#engine = create_engine('sqlite:////blue/bsc4452/share/Class_Files/data/world.sqlite')\n",
    "\n",
    "# Connect to the database\n",
    "#conn = engine.connect()\n",
    "\n",
    "# Read the metadata from the existing database\n",
    "DBInfo = MetaData(engine)\n",
    "\n",
    "# Auto-create the country object based on the metadata\n",
    "country = Table('country', DBInfo, autoload_with=engine)\n",
    "\n",
    "# Data for South Sudan\n",
    "south_sudan_data = {\n",
    "    'Code': 'SSD',\n",
    "    'Name': 'South Sudan',\n",
    "    'Continent': 'Africa',\n",
    "    'Region': 'Eastern Africa',\n",
    "    'SurfaceArea': 619745,\n",
    "    'IndepYear': 2011,\n",
    "    'Population': 10000000,\n",
    "    'LifeExpectancy': None,  # Replace with actual value if available\n",
    "    'GNP': None,  # Replace with actual value if available\n",
    "    'GNPOld': None,  # Replace with actual value if available\n",
    "    'LocalName': 'South Sudan',\n",
    "    'GovernmentForm': 'Republic',\n",
    "    'HeadOfState': 'Salva Kiir Mayardit',  # Replace if outdated\n",
    "    'Capital': 'Juba',  # Replace with actual ID or name\n",
    "    'Code2': 'SS'\n",
    "}\n",
    "\n",
    "# Insert the data into the table\n",
    "try:\n",
    "    # Create an insert statement\n",
    "    stmt = insert(country).values(**south_sudan_data)\n",
    "    conn.execute(stmt)\n",
    "    print(\"South Sudan data inserted successfully.\")\n",
    "except Exception as e:\n",
    "    print(f\"Error during insertion: {e}\")\n",
    "finally:\n",
    "    conn.close()\n"
   ]
  },
  {
   "cell_type": "code",
   "execution_count": 27,
   "id": "d46b7184-f072-432b-8628-cca2a624a916",
   "metadata": {
    "tags": []
   },
   "outputs": [],
   "source": [
    "from sqlalchemy import create_engine, MetaData, Table, insert\n",
    "\n",
    "# Create the engine to connect to the SQLite database\n",
    "engine = create_engine('sqlite:///world.sqlite')\n",
    "\n",
    "# Connect to the database\n",
    "conn = engine.connect()\n",
    "\n",
    "# Read the metadata from the existing database\n",
    "DBInfo = MetaData(engine)\n",
    "\n",
    "# Auto-create the country table object based on the metadata\n",
    "city = Table('city', DBInfo, autoload_with=engine)\n",
    "\n",
    "\n",
    "# Assuming we know the ID for South Sudan (e.g., ID = 10, the Code or primary key)\n",
    "south_sudan_id = 10  # Replace with the actual ID or code of South Sudan in the country table\n",
    "\n",
    "# Insert new data for Juba\n",
    "juba_data = {\n",
    "    'Name': 'Juba',\n",
    "    'CountryCode': 'SSD',  # Assuming 'SSD' as the code for South Sudan (can vary based on schema)\n",
    "    'Population': 500000,  # Population for Juba\n",
    "   \n",
    "}\n",
    "\n",
    "# Insert new data for Wau\n",
    "wau_data = {\n",
    "    'Name': 'Wau',\n",
    "    'CountryCode': 'SSD',  # Assuming 'SSD' as the code for South Sudan\n",
    "    'Population': 350000,  # Population for Wau\n",
    "\n",
    "}\n",
    "\n",
    "try:\n",
    "    # Insert statements for Juba and Wau\n",
    "    insert_stmt_juba = insert(city).values(juba_data)\n",
    "    insert_stmt_wau = insert(city).values(wau_data)\n",
    "\n",
    "    # Execute the insert statements\n",
    "    conn.execute(insert_stmt_juba)\n",
    "    conn.execute(insert_stmt_wau)\n",
    "\n",
    "    # Commit the transaction\n",
    "    # conn.commit()\n",
    "\n",
    "except Exception as e:\n",
    "    # Print the error message if something goes wrong\n",
    "    print(f\"Error occurred during insertion: {e}\")\n",
    "\n",
    "finally:\n",
    "    # Close the connection\n",
    "    conn.close()\n"
   ]
  },
  {
   "cell_type": "code",
   "execution_count": 26,
   "id": "4ac9dcd0-9917-44e5-8fe2-eac7410e04c3",
   "metadata": {
    "tags": []
   },
   "outputs": [
    {
     "data": {
      "image/png": "[encoded data removed]",
      "text/plain": [
       "<Figure size 720x432 with 1 Axes>"
      ]
     },
     "metadata": {
      "needs_background": "light"
     },
     "output_type": "display_data"
    }
   ],
   "source": [
    "import matplotlib.pyplot as plt\n",
    "import pandas as pd\n",
    "from sqlalchemy import create_engine, MetaData, Table\n",
    "\n",
    "# Create the engine to connect to the SQLite database\n",
    "engine = create_engine('sqlite:////blue/bsc4452/share/Class_Files/data/world.sqlite')\n",
    "\n",
    "# Connect to the database\n",
    "conn = engine.connect()\n",
    "\n",
    "# Read the metadata from the existing database\n",
    "DBInfo = MetaData(engine)\n",
    "\n",
    "# Auto-create the country table object based on the metadata\n",
    "country = Table('country', DBInfo, autoload_with=engine)\n",
    "\n",
    "# Select the required columns (LifeExpectancy, Population)\n",
    "query = country.select().with_only_columns([country.c.LifeExpectancy, country.c.Population])\n",
    "\n",
    "# Execute the query and fetch the results\n",
    "results = conn.execute(query).fetchall()\n",
    "\n",
    "# Convert the results to a pandas DataFrame\n",
    "df = pd.DataFrame(results, columns=['LifeExpectancy', 'Population'])\n",
    "\n",
    "# Close the connection\n",
    "conn.close()\n",
    "\n",
    "# Drop rows with missing LifeExpectancy or Population data (optional)\n",
    "df = df.dropna()\n",
    "\n",
    "# Plotting\n",
    "plt.figure(figsize=(10, 6))\n",
    "plt.scatter(df['Population'], df['LifeExpectancy'], alpha=0.5, color='b')\n",
    "\n",
    "# Adding labels and title\n",
    "plt.title('Life Expectancy vs Population')\n",
    "plt.xlabel('Population')\n",
    "plt.ylabel('Life Expectancy')\n",
    "\n",
    "# Show the plot\n",
    "plt.show()"
   ]
  },
  {
   "cell_type": "code",
   "execution_count": null,
   "id": "e8676532-f5fb-4664-bad6-499520819117",
   "metadata": {
    "tags": []
   },
   "outputs": [],
   "source": [
    "\n"
   ]
  },
  {
   "cell_type": "code",
   "execution_count": null,
   "id": "f7f2e4a4-1c28-4ec3-8499-8677c7ac5268",
   "metadata": {},
   "outputs": [],
   "source": []
  }
 ],
 "metadata": {
  "kernelspec": {
   "display_name": "UFRC Python-3.10",
   "language": "python",
   "name": "python3-3.10-ufrc"
  },
  "language_info": {
   "codemirror_mode": {
    "name": "ipython",
    "version": 3
   },
   "file_extension": ".py",
   "mimetype": "text/x-python",
   "name": "python",
   "nbconvert_exporter": "python",
   "pygments_lexer": "ipython3",
   "version": "3.10.8"
  }
 },
 "nbformat": 4,
 "nbformat_minor": 5
}
